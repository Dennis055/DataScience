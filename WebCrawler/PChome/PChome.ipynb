{
 "cells": [
  {
   "cell_type": "code",
   "execution_count": 76,
   "metadata": {
    "ExecuteTime": {
     "end_time": "2020-06-12T05:29:24.065076Z",
     "start_time": "2020-06-12T05:29:24.061086Z"
    }
   },
   "outputs": [],
   "source": [
    "import requests\n",
    "import json\n",
    "from bs4 import BeautifulSoup\n",
    "import pandas as pd\n",
    "import re\n",
    "from time import sleep\n",
    "from datetime import datetime"
   ]
  },
  {
   "cell_type": "code",
   "execution_count": 77,
   "metadata": {
    "ExecuteTime": {
     "end_time": "2020-06-12T05:29:32.486823Z",
     "start_time": "2020-06-12T05:29:32.481832Z"
    }
   },
   "outputs": [
    {
     "data": {
      "text/plain": [
       "datetime.datetime(2020, 6, 12, 13, 29, 32, 482830)"
      ]
     },
     "execution_count": 77,
     "metadata": {},
     "output_type": "execute_result"
    }
   ],
   "source": [
    "datetime.now()"
   ]
  },
  {
   "cell_type": "code",
   "execution_count": 78,
   "metadata": {
    "ExecuteTime": {
     "end_time": "2020-06-12T05:29:44.754687Z",
     "start_time": "2020-06-12T05:29:38.599279Z"
    }
   },
   "outputs": [
    {
     "ename": "ValueError",
     "evalue": "No objects to concatenate",
     "output_type": "error",
     "traceback": [
      "\u001b[1;31m---------------------------------------------------------------------------\u001b[0m",
      "\u001b[1;31mValueError\u001b[0m                                Traceback (most recent call last)",
      "\u001b[1;32m<ipython-input-78-824f9da1b174>\u001b[0m in \u001b[0;36m<module>\u001b[1;34m\u001b[0m\n\u001b[0;32m     44\u001b[0m     \u001b[1;32mbreak\u001b[0m\u001b[1;33m\u001b[0m\u001b[1;33m\u001b[0m\u001b[0m\n\u001b[0;32m     45\u001b[0m \u001b[1;33m\u001b[0m\u001b[0m\n\u001b[1;32m---> 46\u001b[1;33m \u001b[0mdf\u001b[0m \u001b[1;33m=\u001b[0m \u001b[0mpd\u001b[0m\u001b[1;33m.\u001b[0m\u001b[0mconcat\u001b[0m\u001b[1;33m(\u001b[0m\u001b[0mdf\u001b[0m\u001b[1;33m,\u001b[0m \u001b[0mignore_index\u001b[0m\u001b[1;33m=\u001b[0m\u001b[1;32mTrue\u001b[0m\u001b[1;33m)\u001b[0m\u001b[1;33m\u001b[0m\u001b[1;33m\u001b[0m\u001b[0m\n\u001b[0m\u001b[0;32m     47\u001b[0m \u001b[0mdf\u001b[0m\u001b[1;33m\u001b[0m\u001b[1;33m\u001b[0m\u001b[0m\n",
      "\u001b[1;32mC:\\ProgramData\\Anaconda3\\lib\\site-packages\\pandas\\core\\reshape\\concat.py\u001b[0m in \u001b[0;36mconcat\u001b[1;34m(objs, axis, join, ignore_index, keys, levels, names, verify_integrity, sort, copy)\u001b[0m\n\u001b[0;32m    279\u001b[0m         \u001b[0mverify_integrity\u001b[0m\u001b[1;33m=\u001b[0m\u001b[0mverify_integrity\u001b[0m\u001b[1;33m,\u001b[0m\u001b[1;33m\u001b[0m\u001b[1;33m\u001b[0m\u001b[0m\n\u001b[0;32m    280\u001b[0m         \u001b[0mcopy\u001b[0m\u001b[1;33m=\u001b[0m\u001b[0mcopy\u001b[0m\u001b[1;33m,\u001b[0m\u001b[1;33m\u001b[0m\u001b[1;33m\u001b[0m\u001b[0m\n\u001b[1;32m--> 281\u001b[1;33m         \u001b[0msort\u001b[0m\u001b[1;33m=\u001b[0m\u001b[0msort\u001b[0m\u001b[1;33m,\u001b[0m\u001b[1;33m\u001b[0m\u001b[1;33m\u001b[0m\u001b[0m\n\u001b[0m\u001b[0;32m    282\u001b[0m     )\n\u001b[0;32m    283\u001b[0m \u001b[1;33m\u001b[0m\u001b[0m\n",
      "\u001b[1;32mC:\\ProgramData\\Anaconda3\\lib\\site-packages\\pandas\\core\\reshape\\concat.py\u001b[0m in \u001b[0;36m__init__\u001b[1;34m(self, objs, axis, join, keys, levels, names, ignore_index, verify_integrity, copy, sort)\u001b[0m\n\u001b[0;32m    327\u001b[0m \u001b[1;33m\u001b[0m\u001b[0m\n\u001b[0;32m    328\u001b[0m         \u001b[1;32mif\u001b[0m \u001b[0mlen\u001b[0m\u001b[1;33m(\u001b[0m\u001b[0mobjs\u001b[0m\u001b[1;33m)\u001b[0m \u001b[1;33m==\u001b[0m \u001b[1;36m0\u001b[0m\u001b[1;33m:\u001b[0m\u001b[1;33m\u001b[0m\u001b[1;33m\u001b[0m\u001b[0m\n\u001b[1;32m--> 329\u001b[1;33m             \u001b[1;32mraise\u001b[0m \u001b[0mValueError\u001b[0m\u001b[1;33m(\u001b[0m\u001b[1;34m\"No objects to concatenate\"\u001b[0m\u001b[1;33m)\u001b[0m\u001b[1;33m\u001b[0m\u001b[1;33m\u001b[0m\u001b[0m\n\u001b[0m\u001b[0;32m    330\u001b[0m \u001b[1;33m\u001b[0m\u001b[0m\n\u001b[0;32m    331\u001b[0m         \u001b[1;32mif\u001b[0m \u001b[0mkeys\u001b[0m \u001b[1;32mis\u001b[0m \u001b[1;32mNone\u001b[0m\u001b[1;33m:\u001b[0m\u001b[1;33m\u001b[0m\u001b[1;33m\u001b[0m\u001b[0m\n",
      "\u001b[1;31mValueError\u001b[0m: No objects to concatenate"
     ]
    }
   ],
   "source": [
    "query = '筆電'\n",
    "# 每次加載分頁有20筆資料，可以依需求增加/減少\n",
    "pages = 10\n",
    "\n",
    "headers = {'User-Agent': 'Mozilla/5.0 (Windows NT 10.0; Win64; x64) AppleWebKit/537.36 (KHTML, like Gecko) Chrome/73.0.3683.103 Safari/537.36'}\n",
    "\n",
    "df = []\n",
    "for page in list(range(1, pages)):\n",
    "    url = 'https://ecshweb.pchome.com.tw/search/v3.3/all/results?q={}&page={}&sort=sale/dc'.format(query, page)\n",
    "    # Get Prod List\n",
    "    resp = requests.get(url,headers=headers)\n",
    "    try:\n",
    "        for num, prodid in enumerate(resp.json()['prods']):\n",
    "#             print(prodid)\n",
    "            try:\n",
    "                # basic info\n",
    "                ecpai = 'https://mall.pchome.com.tw/ecapi/ecshop/prodapi/v2/prod/{}&fields=Seq,Id,Name,Nick,Store,PreOrdDate,SpeOrdDate,Price,Discount,Pic,Weight,ISBN,Qty,Bonus,isBig,isSpec,isCombine,isDiy,isRecyclable,isCarrier,isMedical,isBigCart,isSnapUp,isDescAndIntroSync,isFoodContents,isHuge,isEnergySubsidy,isPrimeOnly,isWarranty,isLegalStore,isOnSale,isPriceTask,isBidding,isETicket&_callback=jsonp_prod&1587196620'.format(prodid['Id'])\n",
    "                resp2 = requests.get(ecpai,headers=headers)\n",
    "                data2 = re.sub('try{jsonp_prod\\(|\\}\\);\\}catch\\(e\\)\\{if\\(window.console\\)\\{console.log\\(e\\)\\;\\}','',resp2.text)\n",
    "                data2 = json.loads(data2)[prodid['Id']+'-000']\n",
    "                ecapi2 = 'https://ecapi.pchome.com.tw/cdn/ecshop/prodapi/v2/prod/{}/desc&fields=Id,Stmt,Equip,Remark,Liability,Kword,Slogan,Author,Transman,Pubunit,Pubdate,Approve&_callback=jsonp_desc'.format(prodid['Id'])\n",
    "                resp3 = requests.get(ecapi2,headers=headers)\n",
    "                data3 = re.sub('try{jsonp_desc\\(|\\}\\);\\}catch\\(e\\)\\{if\\(window.console\\)\\{console.log\\(e\\)\\;\\}','',resp3.text)\n",
    "                data3 = json.loads(data3)[prodid['Id']]\n",
    "                \n",
    "                ndf = DataFrame([{'Id':data3['Id'],\n",
    "                                  '名稱':data2['Name'],\n",
    "                                  'Nick':data2['Nick'],\n",
    "                                  'Store':data2['Store'],\n",
    "                                  '原價':data2['Price']['M'],\n",
    "                                  '特價':data2['Price']['P'],\n",
    "                                  'Stmt':data3['Stmt'],\n",
    "                                  'Remark': data3['Remark'],\n",
    "                                  'Kword': data3['Kword'],\n",
    "                                  '描述': data3['Slogan'],\n",
    "                                  'Updatetime':datetime.now()}])\n",
    "                print(ndf['名稱'])\n",
    "                df.append(ndf)\n",
    "                sleep(4) # 後面再改成2/3秒\n",
    "            except:\n",
    "                pass            \n",
    "    except:\n",
    "        print('No More data')\n",
    "    break\n",
    "        \n",
    "df = pd.concat(df, ignore_index=True)\n",
    "df"
   ]
  },
  {
   "cell_type": "code",
   "execution_count": 73,
   "metadata": {
    "ExecuteTime": {
     "end_time": "2020-06-12T05:27:50.316973Z",
     "start_time": "2020-06-12T05:27:50.310986Z"
    }
   },
   "outputs": [
    {
     "data": {
      "text/plain": [
       "'<font size=2><LI>LCD尺寸：14’//300nits//FHD 1920x1080 16:9//Touch screen//sRGB: 100%//Wide View\\r\\n<font color=red><LI>處理器：Intel® Core™ i7-10510U 1.8 GHz</font>\\r\\n<LI>記憶體：8GB LPDDR3 on board\\r\\n<font color=red><LI>顯卡：NVIDIA MX 250 2G獨顯\\r\\n<LI>硬碟：\"512GB M.2 NVMe™ PCIe® SSD with 32GB Intel® Optane™ Memory</font>\\r\\n<LI>其他：NonaEdge極窄邊框、NumberPad 2.0\\r\\n<LI>網路：802.11ax+Bluetooth 5.0 (Dual band) 2*2\\r\\n<LI>重量：1.4kg\\r\\n<LI>作業系統： 64 Bits Windows 10 Home\\r\\n<LI>保固：2年全球保固 LCD無亮點保固\\r\\n\\r\\n<a href=\" //a.ecimg.tw/img/projects/personal/v0/upload_file/US00010362/Office-introduce.jpg \"target=”_blank”><img src=\"https://a.ecimg.tw/img/projects/personal/v0/upload_file/US00010362/office/2019-1.jpg \"alt=\"↑買NB加購Office 詳細請點\"></a>\\r\\n\\r\\n<a href=\"#規格說明\"><img src=\"https://a.ecimg.tw/img/projects/personal/v0/upload_file/US00000208/add/icon.jpg\">本商品詳細規格</a></a>\\r\\n\\r\\n\\r\\n<B><font color=\"#0072ff\" style=\"background-color: #ffff99\">館長小叮嚀：儲值購買最划算～</font></B>\\r\\n<a href=\"https://www.pchomeec.tw/activity/AC00051773\">\\r\\n<img src=\" https://a.ecimg.tw/img/projects/personal/v0/upload_file/US00010362/bank/4.jpg \"align=\"\"><button>↑本月儲值優惠活動，請點我</button></a>\\r\\n\\r\\n<B><font color=\"#0072ff\" style=\"background-color: #ffff99\">本月銀行優惠 限量需登錄</font></B>\\r\\n<a href=\"https://www.pchomeec.tw/activity/AC00051533\"><img src=\" https://a.ecimg.tw/img/projects/personal/v0/upload_file/US00010362/bank/3.jpg \"align=\"\"><button>↑銀行刷卡活動詳情請點圖片了解</button></a>\\r\\n\\r\\n\\r\\n\\r\\n<B><font color=\"#0072ff\" style=\"background-color: #ffff99\">買筆電必省攻略～</font></B>\\r\\n<a href=\"https://www.pchomeec.tw/activity/AC61292777\"><img src=\"//a.ecimg.tw/img/projects/personal/v0/upload_file/US00000438/pi-2020-mar.jpg\"align=\"\"><button>↑活動詳情請點我</button></a>\\r\\n'"
      ]
     },
     "execution_count": 73,
     "metadata": {},
     "output_type": "execute_result"
    }
   ],
   "source": [
    "data3['Slogan']"
   ]
  },
  {
   "cell_type": "code",
   "execution_count": 59,
   "metadata": {
    "ExecuteTime": {
     "end_time": "2020-06-12T05:15:27.348148Z",
     "start_time": "2020-06-12T05:15:27.343161Z"
    }
   },
   "outputs": [],
   "source": [
    "ecpai= 'https://ecapi.pchome.com.tw/cdn/ecshop/prodapi/v2/prod/DHAS1U-A900AMWRG/desc&fields=Id,Stmt,Equip,Remark,Liability,Kword,Slogan,Author,Transman,Pubunit,Pubdate,Approve&_callback=jsonp_desc'"
   ]
  },
  {
   "cell_type": "code",
   "execution_count": 55,
   "metadata": {
    "ExecuteTime": {
     "end_time": "2020-06-12T05:13:30.455131Z",
     "start_time": "2020-06-12T05:13:30.206337Z"
    }
   },
   "outputs": [],
   "source": [
    "resp2 = requests.get(ecpai,headers=headers)"
   ]
  },
  {
   "cell_type": "code",
   "execution_count": 56,
   "metadata": {
    "ExecuteTime": {
     "end_time": "2020-06-12T05:13:31.533186Z",
     "start_time": "2020-06-12T05:13:31.528203Z"
    }
   },
   "outputs": [],
   "source": [
    "data = "
   ]
  },
  {
   "cell_type": "code",
   "execution_count": 57,
   "metadata": {
    "ExecuteTime": {
     "end_time": "2020-06-12T05:13:32.202625Z",
     "start_time": "2020-06-12T05:13:32.195644Z"
    }
   },
   "outputs": [
    {
     "data": {
      "text/plain": [
       "'{\"DHAFHQ-A900AMA95\":{\"Id\":\"DHAFHQ-A900AMA95\",\"Stmt\":\"<a name=\\\\\"\\\\u898f\\\\u683c\\\\u8aaa\\\\u660e\\\\\"> ASUS F571GT-0331K8300H \\\\u661f\\\\u591c\\\\u9ed1 \\\\u8a73\\\\u7d30\\\\u898f\\\\u683c\\\\u8868<\\\\/a>\\\\r\\\\n--------------------------------------------\\\\r\\\\n\\\\u25cf\\\\u4e3b\\\\u8981\\\\u898f\\\\u683c: \\\\r\\\\n--------------------------------------------\\\\r\\\\nLCD\\\\u5c3a\\\\u5bf8: 15.6\\'\\\\/\\\\/LED Backlit\\\\/\\\\/250nits\\\\/\\\\/FHD (1920 x 1080) 16:9\\\\/\\\\/Anti-glare display\\\\/\\\\/NTSC: 45%\\\\/\\\\/IPS-level Panel\\\\r\\\\n<font color=\\\\\"RED\\\\\">CPU: Intel\\\\u00ae Core\\\\u2122 i5-8300H Processor 2.3 GHz (8M Cache, up to 4.0 GHz)<\\\\/font>\\\\r\\\\n\\\\u5167\\\\u5efa\\\\u8a18\\\\u61b6\\\\u9ad4:4GB DDR4 on board\\\\r\\\\n<font color=\\\\\"RED\\\\\">\\\\u786c\\\\u789f: \\\\\"1TB SATA 5400RPM 2.5\\\\\"\\\\\" HDD+256GB M.2 NVMe\\\\u2122 PCIe\\\\u00ae 3.0  SSD\\\\\"\\\\r\\\\n\\\\u986f\\\\u793a\\\\u6676\\\\u7247:NVIDIA GeForce GTX1650 4G\\\\u7368\\\\u986f <\\\\/font>\\\\r\\\\n\\\\u5149\\\\u789f\\\\u6a5f:\\\\u7121\\\\r\\\\n\\\\u4fdd\\\\u56fa:2\\\\u5e74\\\\u5168\\\\u7403\\\\u4fdd\\\\u56fa LCD\\\\u7121\\\\u4eae\\\\u9ede\\\\u4fdd\\\\u56fa\\\\r\\\\n\\\\u4f5c\\\\u696d\\\\u7cfb\\\\u7d71:64 Bits Windows 10 Home \\\\r\\\\n--------------------------------------------\\\\r\\\\n\\\\u25cf\\\\u5176\\\\u4ed6\\\\u898f\\\\u683c: \\\\r\\\\n--------------------------------------------\\\\r\\\\n\\\\u5c3a\\\\u5bf8\\\\uff1a35.9(W) x 24.8(D) x 2.19 ~ 2.19 (H) cm\\\\r\\\\n\\\\u91cd\\\\u91cf\\\\uff1a2.14 kg\\\\r\\\\nWLAN\\\\u7121\\\\u7dda\\\\u7db2\\\\u8def:802.11 AC\\\\r\\\\nWEBCAM\\\\u7db2\\\\u8def\\\\u651d\\\\u5f71\\\\u6a5f:HD Web Camera\\\\r\\\\n\\\\u85cd\\\\u82bd: Bluetooth 4.2\\\\r\\\\n--------------------------------------------\\\\r\\\\n\\\\u25cf\\\\u8f38\\\\u5165\\\\u8f38\\\\u51fa\\\\u4ecb\\\\u9762(I\\\\/O):\\\\r\\\\n--------------------------------------------\\\\r\\\\n2x USB 2.0 Type-A\\\\r\\\\n1x USB 3.2 Gen 1 Type-A\\\\r\\\\n1x USB 3.2 Gen 1 Type-C\\\\\"\\\\r\\\\n\\\\\"1x HDMI 1.4\\\\r\\\\n1x 3.5mm Combo Audio Jack\\\\r\\\\n1x Headphone out\\\\r\\\\n1x RJ45 LAN Jack for LAN insert(10\\\\/100\\\\/1000)\\\\r\\\\n1x DC-in\\\\\"\",\"Equip\":\"\\\\u672c\\\\u6a5f\\\\u578b\\\\u7121\\\\u5305\\\\u5305\\\\u548c\\\\u7121\\\\u6ed1\\\\u9f20\",\"Remark\":\"<font color=#FF00CC><b>\\\\u6eab\\\\u99a8\\\\u63d0\\\\u9192\\\\uff1a\\\\u5982\\\\u6709\\\\u52a0\\\\u9001\\\\u8d08\\\\u54c1\\\\u8a18\\\\u61b6\\\\u9ad4 or SSD\\\\u7686\\\\u9700\\\\u984d\\\\u5916\\\\u81ea\\\\u884c\\\\u5b89\\\\u88dd\\\\uff0c\\\\u5982\\\\u9001\\\\u81f3\\\\u539f\\\\u5ee0\\\\u7b49\\\\u9700\\\\u984d\\\\u5916\\\\u6536\\\\u8cbb\\\\uff0c\\\\u8acb\\\\u6d88\\\\u8cbb\\\\u8005\\\\u81ea\\\\u884c\\\\u8a55\\\\u65b7\\\\uff0c\\\\u8b1d\\\\u8b1d<\\\\/b>\",\"Liability\":\"<B>\\\\u83ef\\\\u78a9\\\\u7b46\\\\u8a18\\\\u578b\\\\u96fb\\\\u8166\\\\u5169\\\\u5e74\\\\u4fdd\\\\u56fa<\\\\/B><BR>\\\\u53f0\\\\u7063\\\\u5340\\\\u81ea2002\\\\u5e742\\\\u67081\\\\u65e5\\\\u8d77\\\\u51e1\\\\u8cfc\\\\u8cb7\\\\u83ef\\\\u78a9\\\\u7b46\\\\u8a18\\\\u578b\\\\u96fb\\\\u8166\\\\u5373\\\\u53ef\\\\u4eab\\\\u6709\\\\u5169\\\\u5e74\\\\u7522\\\\u54c1\\\\u4fdd\\\\u56fa\\\\u670d\\\\u52d9\\\\u3002<BR>\\\\u25ce\\\\u95dc\\\\u65bc\\\\u96fb\\\\u6c60\\\\u4fdd\\\\u56fa\\\\u554f\\\\u984c <BR>\\\\u96fb\\\\u6c60\\\\u70ba\\\\u6d88\\\\u8017\\\\u6027\\\\u4e4b\\\\u7522\\\\u54c1\\\\uff0c\\\\u5176\\\\u4fdd\\\\u56fa\\\\u671f\\\\u70ba\\\\u58f9\\\\u5e74<BR>\\\\u96fb\\\\u6c60\\\\u4f7f\\\\u7528\\\\u6642\\\\u9593\\\\u8207\\\\u5145\\\\u653e\\\\u96fb\\\\u4e4b\\\\u6b21\\\\u6578\\\\u6210\\\\u53cd\\\\u6bd4\\\\uff0c\\\\u56e0\\\\u6b64\\\\u4f7f\\\\u7528\\\\u6642\\\\u9593\\\\u7e2e\\\\u77ed\\\\u70ba\\\\u6b63\\\\u5e38\\\\u73fe\\\\u8c61\\\\uff0c\\\\u4e0d\\\\u5c6c\\\\u65bc\\\\u4e00\\\\u5e74\\\\u4fdd\\\\u56fa\\\\u7bc4\\\\u570d<BR>\\\\r\\\\n<B>\\\\u83ef\\\\u78a9\\\\u7684\\\\u5831\\\\u4fee\\\\u670d\\\\u52d9\\\\u65b9\\\\u5f0f\\\\u6709\\\\u4e8c\\\\uff1a<\\\\/B><BR><B>A.\\\\u83ef\\\\u78a9\\\\u7b46\\\\u8a18\\\\u578b\\\\u96fb\\\\u8166\\\\u514d\\\\u8cbb\\\\u9001\\\\u4fee<\\\\/B><BR>\\\\u70ba\\\\u63d0\\\\u4f9b\\\\u83ef\\\\u78a9\\\\u7522\\\\u54c1\\\\u7528\\\\u6236\\\\u6709\\\\u66f4\\\\u5b8c\\\\u5584\\\\u7684\\\\u552e\\\\u5f8c\\\\u670d\\\\u52d9\\\\uff0c\\\\u83ef\\\\u78a9\\\\u7279\\\\u5225\\\\u63a8\\\\u51fa\\\\u4e86\\\\u7b46\\\\u8a18\\\\u578b\\\\u96fb\\\\u8166\\\\u672c\\\\u5cf6\\\\u514d\\\\u8cbb\\\\u5feb\\\\u905e\\\\u9001\\\\u4fee\\\\u7684\\\\u670d\\\\u52d9\\\\uff0c\\\\u8b93\\\\u5ba2\\\\u6236\\\\u6709\\\\u7dad\\\\u4fee\\\\u9700\\\\u6c42\\\\u6642\\\\u80fd\\\\u6709\\\\u6548\\\\u5feb\\\\u901f\\\\u7684\\\\u900f\\\\u904e\\\\u7269\\\\u6d41\\\\u6536\\\\u9001\\\\uff0c\\\\u56de\\\\u5ee0\\\\u9032\\\\u884c\\\\u7dad\\\\u4fee\\\\u6d41\\\\u7a0b\\\\uff0c\\\\u53ca\\\\u5b8c\\\\u4fee\\\\u5f8c\\\\u5b89\\\\u5168\\\\u8fc5\\\\u901f\\\\u7684\\\\u5c07\\\\u6a5f\\\\u53f0\\\\u9001\\\\u56de\\\\uff0c\\\\u9054\\\\u6210\\\\u5ba2\\\\u6236\\\\u6eff\\\\u610f\\\\u4e4b\\\\u4f9d\\\\u64da\\\\u3002<BR>\\\\u9069\\\\u7528\\\\u83ef\\\\u78a9\\\\u516c\\\\u53f8\\\\u51fa\\\\u552e\\\\u4e4b\\\\u83ef\\\\u78a9\\\\u7b46\\\\u8a18\\\\u578b\\\\u96fb\\\\u8166\\\\u7522\\\\u54c1\\\\u65bc\\\\u4fdd\\\\u56fa\\\\u5167\\\\u6709\\\\u7dad\\\\u4fee\\\\u9700\\\\u6c42\\\\u6642\\\\uff0c\\\\u7d66\\\\u4e88\\\\u56de\\\\u5ee0\\\\u514d\\\\u8cbb\\\\u6536\\\\u9001\\\\u670d\\\\u52d9\\\\u3002<BR>\\\\u25ce\\\\u53ea\\\\u9650\\\\u53f0\\\\u7063\\\\u672c\\\\u5cf6\\\\ufe30\\\\u4e0d\\\\u9650\\\\u5730\\\\u9ede\\\\u53ef\\\\u6536\\\\u4ef6\\\\u3002<BR>\\\\u25ce\\\\u8acb\\\\u64a5\\\\u5ba2\\\\u670d\\\\u96fb\\\\u8a71\\\\uff1a0800-093-456\\\\uff0c \\\\u5ba2\\\\u670d\\\\u4eba\\\\u54e1\\\\u5c07\\\\u70ba\\\\u8207\\\\u60a8\\\\u806f\\\\u7d61\\\\u76f8\\\\u95dc\\\\u4e8b\\\\u5b9c\\\\u3002<BR>\\\\u70ba\\\\u4e86\\\\u4fdd\\\\u969c\\\\u60a8\\\\u7684\\\\u6b0a\\\\u76ca\\\\uff0c \\\\u8acb\\\\u5728\\\\u9451\\\\u8cde\\\\u671f\\\\u5f8c\\\\u5728\\\\u7dda\\\\u4e0a\\\\u8a3b\\\\u518a\\\\u60a8\\\\u7684\\\\u5546\\\\u54c1\\\\u3002\\\\u82e5\\\\u60a8\\\\u662f\\\\u7b2c\\\\u4e00\\\\u6b21\\\\u8a3b\\\\u518a\\\\uff0c\\\\u8acb\\\\u5148\\\\u52a0\\\\u5165\\\\u83ef\\\\u78a9\\\\u4e00\\\\u822c\\\\u6703\\\\u54e1\\\\uff0c\\\\u8b1d\\\\u8b1d\\\\u60a8!<BR>\\\\u25c6\\\\u7dda\\\\u4e0a\\\\u8a3b\\\\u518a\\\\u2192 <A href=\\\\\" http:\\\\/\\\\/support.asus.com.tw\\\\/repair\\\\/repair.aspx?no=99&SLanguage=zh-tw TARGET=\\\\\" _NEW?><U>\\\\u8acb\\\\u524d\\\\u5f80\\\\u539f\\\\u5ee0\\\\u7db2\\\\u7ad9<\\\\/U><\\\\/A>\\\\r\\\\n<B>B.\\\\u7b46\\\\u8a18\\\\u578b\\\\u96fb\\\\u8166\\\\u4fbf\\\\u5229\\\\u5546\\\\u5e97\\\\u4ee3\\\\u6536\\\\u670d\\\\u52d9<\\\\/B>http:\\\\/\\\\/support.asus.com\\\\/repair\\\\/repair_left.aspx?SLanguage=zh-tw\\\\r\\\\n\",\"Kword\":\"ASUS^F571GT\",\"Slogan\":\"<font color=#663399><b>\\\\u300a\\\\u611f\\\\u8b1d\\\\u6709\\\\u4f60\\\\u25bc\\\\u71b1\\\\u92b7\\\\u7206\\\\u54c1\\\\u63a8\\\\u85a6\\\\u300b \\\\r\\\\n\\\\u7db2\\\\u8def\\\\u50f9$26900\\\\uff0e<font color=#FF00CC><b>\\\\u9650\\\\u6642\\\\u50f9\\\\u2198$23900<\\\\/b><\\\\/font><\\\\/font><\\\\/B>\\\\r\\\\n<font color=#FF00CC><b>\\\\u6a19\\\\u6e96\\\\u96fb\\\\u58d3\\\\u8655\\\\u7406\\\\u5668\\\\u00d7\\\\u7a84\\\\u908a\\\\u2605GTX1650\\\\u7368\\\\u986fx\\\\u96d9\\\\u789f\\\\u2605\\\\u72c2\\\\u964d3\\\\u5343<\\\\/b><\\\\/font><\\\\/b><\\\\/font>\\\\r\\\\n\\\\r\\\\n<a href=https:\\\\/\\\\/24h.pchome.com.tw\\\\/prod\\\\/DHAFHQ-A900AMA95>\\\\u2192\\\\u301023900 \\\\u55ae\\\\u6a5f\\\\u3011<\\\\/a>\\\\r\\\\n<a href=https:\\\\/\\\\/24h.pchome.com.tw\\\\/prod\\\\/DHAFHQ-1900AOUX7>\\\\u2192\\\\u301024900 \\\\u76f4\\\\u53478G\\\\u7d44\\\\u3011<\\\\/a>\\\\r\\\\n<a href=http:\\\\/\\\\/shopping.pchome.com.tw\\\\/DHAFHQ-1900ANSMH>\\\\u2192\\\\u301025900 \\\\u76f4\\\\u534712G\\\\u7d44\\\\u3011<\\\\/a>\\\\r\\\\n<a href=http:\\\\/\\\\/shopping.pchome.com.tw\\\\/DHAFHQ-1900ANSQ7>\\\\u2192\\\\u301024900 \\\\u7b46\\\\u96fb\\\\u5305\\\\u6ed1\\\\u9f20\\\\u7d44\\\\u3011<\\\\/a>\\\\r\\\\n<a href=http:\\\\/\\\\/shopping.pchome.com.tw\\\\/DHAFHQ-1900AMZEZ>\\\\u2192\\\\u301024900 Microsfot 365\\\\u7d44\\\\u3011<\\\\/a>\\\\r\\\\n<a href=http:\\\\/\\\\/shopping.pchome.com.tw\\\\/DHAFHQ-1900ANSQH>\\\\u2192\\\\u301025900 Office365Home\\\\u7d44\\\\u3011<\\\\/a>\\\\r\\\\n<\\\\/b><\\\\/font>\\\\r\\\\n<B><font color=\\\\\"#0072ff\\\\\" style=\\\\\"background-color: #ffff99\\\\\" size=\\\\\"4\\\\\">\\\\u25bc\\\\u7b46\\\\u96fb\\\\u4e94\\\\u5927\\\\u54c1\\\\u724c\\\\u516d\\\\u6708\\\\u9650\\\\u5b9a\\\\u6d3b\\\\u52d5\\\\u25bc  \\\\r\\\\n<font color=\\\\\"#FF00CC\\\\\" size=\\\\\"4\\\\\"><b> \\\\u5237Pi\\\\u7d81+Pi\\\\u9322\\\\u5305 \\\\u6700\\\\u9ad8\\\\u56de\\\\u994b8%P\\\\u5e63<\\\\/font><\\\\/b> \\\\r\\\\n<\\\\/font><\\\\/B><\\\\/B><\\\\/FONT><\\\\/font><\\\\/B><a href=\\\\\"https:\\\\/\\\\/shopping.pchome.com.tw\\\\/activity\\\\/campaign\\\\/C226630495\\\\\"><img src=\\\\\"https:\\\\/\\\\/a.ecimg.tw\\\\/img\\\\/projects\\\\/personal\\\\/v0\\\\/upload_file\\\\/US00014619\\\\/230x120sp.jpg\\\\\"align=\\\\\"\\\\\"><\\\\/B><\\\\/FONT><\\\\/font><\\\\/B><button>\\\\u2191\\\\u7acb\\\\u5373\\\\u8cfc\\\\u8cb7!<\\\\/button><\\\\/a>\\\\r\\\\n\\\\r\\\\n<font color=#4688d1><b><\\\\u8d85\\\\u9ad8C\\\\/P\\\\u503c\\\\uff0c\\\\u65b0\\\\u9bae\\\\u4eba\\\\u52a0\\\\u91cf\\\\u4e0d\\\\u52a0\\\\u50f9>\\\\r\\\\n1. \\\\u6a19\\\\u6e96\\\\u96fb\\\\u58d3\\\\u8655\\\\u7406\\\\u5668\\\\uff1aintel Core i5-8300H\\\\r\\\\n2. \\\\u6548\\\\u80fd\\\\u518d\\\\u5347\\\\u7d1a\\\\uff1aGTX1050 2G\\\\u7121\\\\u75db\\\\u5347\\\\u7d1aGTX1650 4G\\\\u986f\\\\u793a\\\\u5361\\\\r\\\\n3. \\\\u5bb9\\\\u91cf\\\\u5347\\\\u7d1a\\\\uff1a\\\\u96d9\\\\u789f128G SSD+1TB\\\\u7121\\\\u75db\\\\u5347\\\\u7d1a256G SSD+1TB\\\\r\\\\n4. \\\\u8996\\\\u91ce\\\\u5347\\\\u7d1a\\\\uff1a\\\\u50b3\\\\u7d71\\\\u908a\\\\u6846\\\\u7121\\\\u75db\\\\u5347\\\\u7d1a\\\\u7a84\\\\u908a\\\\u6846\\\\r\\\\n5. \\\\u4ecb\\\\u9762\\\\u5347\\\\u7d1a\\\\uff1aUSB3.0*1\\\\u5347\\\\u7d1aUSB3.0*2\\\\r\\\\n6. \\\\u6563\\\\u71b1\\\\u5347\\\\u7d1a\\\\uff1a\\\\u9ad8\\\\u6548\\\\u96d9\\\\u98a8\\\\u6247<\\\\/font>\\\\r\\\\n\\\\r\\\\n<LI>LCD\\\\u5c3a\\\\u5bf8\\\\uff1a15.6 FHD \\\\u7a84\\\\u908a\\\\u6846\\\\r\\\\n<font color=red><LI>\\\\u8655\\\\u7406\\\\u5668\\\\uff1aIntel Core i5-8300H 2.3 GHz <\\\\/font>\\\\r\\\\n<LI>\\\\u8a18\\\\u61b6\\\\u9ad4\\\\uff1a4GB DDR4 on board\\\\r\\\\n<font color=red><LI>\\\\u786c\\\\u789f\\\\uff1a1TB +256GB M.2 NVMe PCIe3.0 SSD\\\\r\\\\n<LI>\\\\u986f\\\\u5361\\\\uff1aNVIDIA GTX 1650 4G \\\\u7368\\\\u986f <\\\\/font>\\\\r\\\\n<LI>\\\\u7db2\\\\u8def\\\\uff1aWi-Fi 5(802.11ac)+Bluetooth 4.2 (Dual band) 2*2\\\\r\\\\n<LI>\\\\u91cd\\\\u91cf\\\\uff1a2.14kg\\\\r\\\\n<LI>\\\\u4f5c\\\\u696d\\\\u7cfb\\\\u7d71\\\\uff1a 64 Bits Windows 10 Home<\\\\/font>\\\\r\\\\n\\\\r\\\\n<img src=\\\\\"https:\\\\/\\\\/a.ecimg.tw\\\\/img\\\\/projects\\\\/personal\\\\/v0\\\\/upload_file\\\\/US00010362\\\\/office\\\\/2019-1.jpg \\\\\"alt=\\\\\"\\\\u2191\\\\u8cb7NB\\\\u52a0\\\\u8cfcOffice \\\\u8a73\\\\u7d30\\\\u8acb\\\\u9ede\\\\\"><\\\\/a>\\\\r\\\\n<a href=\\\\\"#\\\\u898f\\\\u683c\\\\u8aaa\\\\u660e\\\\\"><img src=\\\\\"https:\\\\/\\\\/a.ecimg.tw\\\\/img\\\\/projects\\\\/personal\\\\/v0\\\\/upload_file\\\\/US00000208\\\\/add\\\\/icon.jpg\\\\\">\\\\u672c\\\\u5546\\\\u54c1\\\\u8a73\\\\u7d30\\\\u898f\\\\u683c<\\\\/a><\\\\/a>\\\\r\\\\n<B><font color=\\\\\"#0072ff\\\\\" style=\\\\\"background-color: #ffff99\\\\\">\\\\u9928\\\\u9577\\\\u5c0f\\\\u53ee\\\\u5680\\\\uff1a\\\\u5132\\\\u503c\\\\u8cfc\\\\u8cb7\\\\u6700\\\\u5212\\\\u7b97\\\\uff5e<\\\\/font><\\\\/B>\\\\r\\\\n<a href=\\\\\"https:\\\\/\\\\/www.pchomeec.tw\\\\/activity\\\\/AC00051773\\\\\">\\\\r\\\\n<img src=\\\\\" https:\\\\/\\\\/a.ecimg.tw\\\\/img\\\\/projects\\\\/personal\\\\/v0\\\\/upload_file\\\\/US00010362\\\\/bank\\\\/4.jpg \\\\\"align=\\\\\"\\\\\"><button>\\\\u2191\\\\u672c\\\\u6708\\\\u5132\\\\u503c\\\\u512a\\\\u60e0\\\\u6d3b\\\\u52d5\\\\uff0c\\\\u8acb\\\\u9ede\\\\u6211<\\\\/button><\\\\/a>\\\\r\\\\n\\\\r\\\\n<B><font color=\\\\\"#0072ff\\\\\" style=\\\\\"background-color: #ffff99\\\\\">\\\\u672c\\\\u6708\\\\u9280\\\\u884c\\\\u512a\\\\u60e0 \\\\u9650\\\\u91cf\\\\u9700\\\\u767b\\\\u9304<\\\\/font><\\\\/B>\\\\r\\\\n<a href=\\\\\"https:\\\\/\\\\/www.pchomeec.tw\\\\/activity\\\\/AC00051533\\\\\"><img src=\\\\\" https:\\\\/\\\\/a.ecimg.tw\\\\/img\\\\/projects\\\\/personal\\\\/v0\\\\/upload_file\\\\/US00010362\\\\/bank\\\\/3.jpg \\\\\"align=\\\\\"\\\\\"><button>\\\\u2191\\\\u9280\\\\u884c\\\\u5237\\\\u5361\\\\u6d3b\\\\u52d5\\\\u8a73\\\\u60c5\\\\u8acb\\\\u9ede\\\\u5716\\\\u7247\\\\u4e86\\\\u89e3<\\\\/button><\\\\/a>\",\"Author\":\"\",\"Transman\":\"\",\"Pubunit\":\"\",\"Pubdate\":\"\",\"Approve\":\"{\\\\\"AP1\\\\\":\\\\\"\\\\\",\\\\\"AP2\\\\\":\\\\\"\\\\\",\\\\\"AP3\\\\\":\\\\\"\\\\\",\\\\\"AP4\\\\\":\\\\\"\\\\\",\\\\\"AP5\\\\\":\\\\\"\\\\\",\\\\\"AP6\\\\\":\\\\\"\\\\\"}\"}}'"
      ]
     },
     "execution_count": 57,
     "metadata": {},
     "output_type": "execute_result"
    }
   ],
   "source": [
    "data"
   ]
  },
  {
   "cell_type": "code",
   "execution_count": 51,
   "metadata": {
    "ExecuteTime": {
     "end_time": "2020-06-12T05:11:48.433144Z",
     "start_time": "2020-06-12T05:11:48.426148Z"
    }
   },
   "outputs": [
    {
     "data": {
      "text/plain": [
       "{'Id': 'DHAFGB-A900A6R5O',\n",
       " 'Stmt': '<a name=\"規格說明\"> ASUS VivoBook S15 S531FL-0122B8265U 藍不倒 詳細規格表</a>\\r\\n--------------------------------------------\\r\\n●主要規格: \\r\\n--------------------------------------------\\r\\nLCD尺寸: 15.6\\'//Narrow border//250nits//FHD /Anti-Glare//NTSC: 45%//Wide View\\r\\n<font color=\"RED\">CPU: Intel® Core™ i5-8265U Processor 1.6 GHz (6M Cache, up to 3.4 GHz)\\r\\n顯示晶片:Nvidia MX 250 2G獨顯</font>\\r\\n內建記憶體: DRAM DDR4 8G (Max 16G)\\r\\n<font color=\"RED\">HDD硬碟:512G PCIE SSD</font>\\r\\n光碟機:無\\r\\n保固:2年全球保固 LCD無亮點保固\\r\\n作業系統:64 Bits Windows 10 Home \\r\\n--------------------------------------------\\r\\n●其他規格: \\r\\n--------------------------------------------\\r\\n尺寸：35.7(W) x 23.0(D) x 1.85 ~ 1.85 (H) cm\\r\\n重量：1.8 KG \\r\\nWLAN無線網路:802.11 AC\\r\\nWEBCAM網路攝影機:HD網路攝影機\\r\\n藍芽:Bluetooth 4.2 (Dual band) 2*2\\r\\n--------------------------------------------\\r\\n●輸入輸出介面(I/O):\\r\\n--------------------------------------------\\r\\nUSB 3.0 x 1\\r\\nUSB 2.0 x 2\\r\\nUSB 3.1 Type C x 1(Gen 1)\\r\\n內建多合一讀卡機\\r\\nHDMI\\r\\n含背光KB.具數字鍵\\r\\nHD IR \\r\\nRGB Combo Camera',\n",
       " 'Equip': '包包 滑鼠',\n",
       " 'Remark': '<font color=\"RED\">S531 沒有搭載智慧觸控板 有支援Windows Hello 人臉辨識 \\r\\n此機種無支援指紋辨識 沒有光碟機 購買前請留意</font><br>\\r\\n<font color=\"RED\">賣場文案僅供參考 實際規格請以詳規為準</font><br>',\n",
       " 'Liability': '<B>華碩筆記型電腦兩年保固</B><BR>台灣區自2002年2月1日起凡購買華碩筆記型電腦即可享有兩年產品保固服務。<BR>◎關於電池保固問題 <BR>電池為消耗性之產品，其保固期為壹年<BR>電池使用時間與充放電之次數成反比，因此使用時間縮短為正常現象，不屬於一年保固範圍<BR>\\r\\n<B>華碩的報修服務方式有二：</B><BR><B>A.華碩筆記型電腦免費送修</B><BR>為提供華碩產品用戶有更完善的售後服務，華碩特別推出了筆記型電腦本島免費快遞送修的服務，讓客戶有維修需求時能有效快速的透過物流收送，回廠進行維修流程，及完修後安全迅速的將機台送回，達成客戶滿意之依據。<BR>適用華碩公司出售之華碩筆記型電腦產品於保固內有維修需求時，給予回廠免費收送服務。<BR>◎只限台灣本島︰不限地點可收件。<BR>◎請撥客服電話：0800-093-456， 客服人員將為與您聯絡相關事宜。<BR>為了保障您的權益， 請在鑑賞期後在線上註冊您的商品。若您是第一次註冊，請先加入華碩一般會員，謝謝您!<BR>◆線上註冊→ <A href=\" http://support.asus.com.tw/repair/repair.aspx?no=99&SLanguage=zh-tw TARGET=\" _NEW?><U>請前往原廠網站</U></A>\\r\\n<B>B.筆記型電腦便利商店代收服務</B>http://support.asus.com/repair/repair_left.aspx?SLanguage=zh-tw\\r\\n',\n",
       " 'Kword': 'S15^S531FL',\n",
       " 'Slogan': '<font color=#663399><b>《快速512G★限時狂降》 \\r\\n網路價$28900．<font color=#FF00CC><b>限時價↘$26900</b></font></font></B>\\r\\n<font color=\"blue\"><b>8代i5★快速512G★金屬背蓋★狂降2千</b></font></font></B>\\r\\n\\r\\n\\r\\n<font size=2><LI>LCD尺寸：15.6\" FHD 螢幕 <font color=red>四邊窄邊框設計</font>\\r\\n<font color=red><LI>處理器：Intel® Core™ i5-8265U  1.6 GHz </font>\\r\\n<LI>記憶體：DRAM DDR4 8G (Max 16G)\\r\\n<font color=red><LI>顯卡：Nvidia MX 250 2G獨顯</font>\\r\\n<font color=red><LI>硬碟：512G PCIE SSD</font>\\r\\n<LI>網路：802.11AC/Bluetooth 4.2\\r\\n<LI>重量：1.8 KG\\r\\n<LI>特色：<font color=red>含背光KB.具數字鍵</font>、USB3.1 Type C、HDMI\\r\\n<LI>作業系統： 64 Bits Windows 10 Home\\r\\n<LI>保固：2年全球保固 + 首年免預付完美保固\\r\\n\\r\\n\\r\\n<a href=\" //a.ecimg.tw/img/projects/personal/v0/upload_file/US00010362/Office-introduce.jpg \"target=”_blank”><img src=\"https://a.ecimg.tw/img/projects/personal/v0/upload_file/US00010362/office/2019-1.jpg \"alt=\"↑買NB加購Office 詳細請點\"></a>\\r\\n\\r\\n<a href=\"#規格說明\"><img src=\"https://a.ecimg.tw/img/projects/personal/v0/upload_file/US00000208/add/icon.jpg\">本商品詳細規格</a></a>\\r\\n\\r\\n\\r\\n',\n",
       " 'Author': '',\n",
       " 'Transman': '',\n",
       " 'Pubunit': '',\n",
       " 'Pubdate': '',\n",
       " 'Approve': '{\"AP1\":\"\",\"AP2\":\"\",\"AP3\":\"\",\"AP4\":\"\",\"AP5\":\"\",\"AP6\":\"\"}'}"
      ]
     },
     "execution_count": 51,
     "metadata": {},
     "output_type": "execute_result"
    }
   ],
   "source": [
    "json.loads(data)['DHAFGB-A900A6R5O']"
   ]
  },
  {
   "cell_type": "code",
   "execution_count": null,
   "metadata": {},
   "outputs": [],
   "source": []
  }
 ],
 "metadata": {
  "kernelspec": {
   "display_name": "Python 3",
   "language": "python",
   "name": "python3"
  },
  "language_info": {
   "codemirror_mode": {
    "name": "ipython",
    "version": 3
   },
   "file_extension": ".py",
   "mimetype": "text/x-python",
   "name": "python",
   "nbconvert_exporter": "python",
   "pygments_lexer": "ipython3",
   "version": "3.7.3"
  },
  "toc": {
   "base_numbering": 1,
   "nav_menu": {},
   "number_sections": true,
   "sideBar": true,
   "skip_h1_title": false,
   "title_cell": "Table of Contents",
   "title_sidebar": "Contents",
   "toc_cell": false,
   "toc_position": {},
   "toc_section_display": true,
   "toc_window_display": false
  },
  "varInspector": {
   "cols": {
    "lenName": 16,
    "lenType": 16,
    "lenVar": 40
   },
   "kernels_config": {
    "python": {
     "delete_cmd_postfix": "",
     "delete_cmd_prefix": "del ",
     "library": "var_list.py",
     "varRefreshCmd": "print(var_dic_list())"
    },
    "r": {
     "delete_cmd_postfix": ") ",
     "delete_cmd_prefix": "rm(",
     "library": "var_list.r",
     "varRefreshCmd": "cat(var_dic_list()) "
    }
   },
   "types_to_exclude": [
    "module",
    "function",
    "builtin_function_or_method",
    "instance",
    "_Feature"
   ],
   "window_display": false
  }
 },
 "nbformat": 4,
 "nbformat_minor": 4
}
